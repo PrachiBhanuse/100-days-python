{
  "nbformat": 4,
  "nbformat_minor": 0,
  "metadata": {
    "colab": {
      "provenance": [],
      "authorship_tag": "ABX9TyMG8oyePh/b+GvljhVu/oOk",
      "include_colab_link": true
    },
    "kernelspec": {
      "name": "python3",
      "display_name": "Python 3"
    },
    "language_info": {
      "name": "python"
    }
  },
  "cells": [
    {
      "cell_type": "markdown",
      "metadata": {
        "id": "view-in-github",
        "colab_type": "text"
      },
      "source": [
        "<a href=\"https://colab.research.google.com/github/PrachiBhanuse/100-days-python/blob/main/100_days_python.ipynb\" target=\"_parent\"><img src=\"https://colab.research.google.com/assets/colab-badge.svg\" alt=\"Open In Colab\"/></a>"
      ]
    },
    {
      "cell_type": "markdown",
      "source": [
        "# **DAY 4 -**  **RANDOMISATION**: ⚛"
      ],
      "metadata": {
        "id": "ViKYjWSa5LYU"
      }
    },
    {
      "cell_type": "code",
      "source": [
        "import random\n",
        "\n",
        "# includes 1 - 10\n",
        "randomInt = random.randint(1,10)\n",
        "print(randomInt)\n",
        "\n",
        "# Float\n",
        "# random()  --> 0.0 - 0.9999 (0.0,1.0)\n",
        "randomFloat = random.random()\n",
        "print(randomFloat)\n",
        "\n",
        "# love score\n",
        "love_score = random.randint(1,100)\n",
        "print(f\"Your love score is {love_score}\")\n"
      ],
      "metadata": {
        "colab": {
          "base_uri": "https://localhost:8080/"
        },
        "id": "n5193XYh5rPg",
        "outputId": "62611ae4-7be0-4404-b94e-01f0b5accf93"
      },
      "execution_count": null,
      "outputs": [
        {
          "output_type": "stream",
          "name": "stdout",
          "text": [
            "1\n",
            "0.6108885226615567\n",
            "Your love score is 49\n"
          ]
        }
      ]
    },
    {
      "cell_type": "code",
      "source": [
        "\"\"\"You are going to write a virtual coin toss program. It will randomly tell the user \"Heads\" or \"Tails\".\n",
        "Important, the first letter should be capitalised and spelt exactly like in the example e.g. Heads, not heads.\n",
        "There are many ways of doing this. But to practice what we learnt in the last lesson, you should generate a random number, either 0 or 1. Then use that number to print out Heads or Tails.\n",
        "e.g. 1 means Heads 0 means Tails\"\"\"\n",
        "\n",
        "import random\n",
        "\n",
        "res = random.randint(0,1)\n",
        "\n",
        "if res == 1:\n",
        "    print(\"Heads\")\n",
        "else:\n",
        "    print(\"Tails\")\n"
      ],
      "metadata": {
        "colab": {
          "base_uri": "https://localhost:8080/"
        },
        "id": "skZQ2GS-7fDX",
        "outputId": "54ec7e63-aae4-44ce-bfb6-5c468e35181b"
      },
      "execution_count": null,
      "outputs": [
        {
          "output_type": "stream",
          "name": "stdout",
          "text": [
            "Tails\n"
          ]
        }
      ]
    },
    {
      "cell_type": "markdown",
      "source": [
        "**Lists**\n"
      ],
      "metadata": {
        "id": "6Z13V0yL70We"
      }
    },
    {
      "cell_type": "code",
      "source": [
        "states_of_america = [\"Alaska\", \"Alabama\", \"Arkansas\", \"American Samoa\", \"Arizona\", \"California\"]\n",
        "print(states_of_america)\n",
        "\n",
        "states_of_america[1] = \"Nagpur\"\n",
        "print(states_of_america)\n",
        "\n",
        "states_of_america.extend([\"Kolhapur\" , \"Pune\"])\n",
        "print(states_of_america)\n",
        "\n",
        "states_of_america.insert(0,\"Ratnagiri\")\n",
        "print(states_of_america)\n",
        "\n",
        "states_of_america.remove(\"Nagpur\")\n",
        "print(states_of_america)\n",
        "\n",
        "states_of_america.pop()\n",
        "print(states_of_america)\n"
      ],
      "metadata": {
        "colab": {
          "base_uri": "https://localhost:8080/"
        },
        "id": "HPR9GExG8CqV",
        "outputId": "241dfd12-ab15-4518-a602-b8c22ea5052e"
      },
      "execution_count": null,
      "outputs": [
        {
          "output_type": "stream",
          "name": "stdout",
          "text": [
            "['Alaska', 'Alabama', 'Arkansas', 'American Samoa', 'Arizona', 'California']\n",
            "['Alaska', 'Nagpur', 'Arkansas', 'American Samoa', 'Arizona', 'California']\n",
            "['Alaska', 'Nagpur', 'Arkansas', 'American Samoa', 'Arizona', 'California', 'Kolhapur', 'Pune']\n",
            "['Ratnagiri', 'Alaska', 'Nagpur', 'Arkansas', 'American Samoa', 'Arizona', 'California', 'Kolhapur', 'Pune']\n",
            "['Ratnagiri', 'Alaska', 'Arkansas', 'American Samoa', 'Arizona', 'California', 'Kolhapur', 'Pune']\n",
            "['Ratnagiri', 'Alaska', 'Arkansas', 'American Samoa', 'Arizona', 'California', 'Kolhapur']\n"
          ]
        }
      ]
    },
    {
      "cell_type": "code",
      "source": [
        "\n",
        "\"\"\"\n",
        "You are going to write a program that will select a random name from a list of names. The person selected will have to pay for everybody's food bill.\n",
        "Important: You are not allowed to use the choice() function.\n",
        "Line 8 splits the string names_string into individual names and puts them inside a List called names. For this to work, you must enter all the names as names followed by comma then space. e.g. name, name, name\n",
        "\"\"\"\n",
        "\n",
        "# Import the random module here\n",
        "import random\n",
        "\n",
        "# Split string method\n",
        "names_string = input(\"Give me everybody's names, separated by a comma. \")\n",
        "names = names_string.split(\",\")\n",
        "# 🚨 Don't change the code above 👆\n",
        "\n",
        "#Write your code below this line 👇\n",
        "\n",
        "names_list = names_string.split(',')\n",
        "\n",
        "random_name = random.randint(0,len(names_list)-1)\n",
        "\n",
        "print(names_list[random_name]+\" is going to buy the meal today!\")\n"
      ],
      "metadata": {
        "colab": {
          "base_uri": "https://localhost:8080/"
        },
        "id": "21ims16_AjOK",
        "outputId": "c98538f7-ec16-4d51-dc05-d936987a8b22"
      },
      "execution_count": null,
      "outputs": [
        {
          "output_type": "stream",
          "name": "stdout",
          "text": [
            "Give me everybody's names, separated by a comma. Prachi,Bhanuse\n",
            "Prachi is going to buy the meal today!\n"
          ]
        }
      ]
    },
    {
      "cell_type": "code",
      "source": [
        "# Nested Lists\n",
        "\n",
        "l1 = ['apple','banana','cherry','grapes','mango','guava','tomato','orange','pineapple','beetroot','pomogrante']\n",
        "l2 = ['spinach','bringel','potato','cauliflower','cabbage','lady finger','drumsticks','french beans','capsicum']\n",
        "\n",
        "l3 = [l1,l2]\n",
        "print(l3[1][1])"
      ],
      "metadata": {
        "colab": {
          "base_uri": "https://localhost:8080/"
        },
        "id": "MPriqcqWBA8O",
        "outputId": "e957b1b7-4ca5-40c9-8867-7a481b57a65b"
      },
      "execution_count": null,
      "outputs": [
        {
          "output_type": "stream",
          "name": "stdout",
          "text": [
            "bringel\n"
          ]
        }
      ]
    },
    {
      "cell_type": "code",
      "source": [
        "# 🚨 Don't change the code below 👇\n",
        "row1 = [\"⬜️\",\"️⬜️\",\"️⬜️\"]\n",
        "row2 = [\"⬜️\",\"⬜️\",\"️⬜️\"]\n",
        "row3 = [\"⬜️️\",\"⬜️️\",\"⬜️️\"]\n",
        "map = [row1, row2, row3]\n",
        "print(f\"{row1}\\n{row2}\\n{row3}\")\n",
        "position = input(\"Where do you want to put the treasure? \")\n",
        "# 🚨 Don't change the code above 👆\n",
        "\n",
        "#Write your code below this row 👇\n",
        "\n",
        "column = int(position[0])-1\n",
        "row = int(position[1])-1\n",
        "\n",
        "map[row][column] = 'X'\n",
        "\n",
        "\n",
        "\n",
        "\n",
        "\n",
        "\n",
        "#Write your code above this row 👆\n",
        "\n",
        "# 🚨 Don't change the code below 👇\n",
        "print(f\"{row1}\\n{row2}\\n{row3}\")\n",
        "\n"
      ],
      "metadata": {
        "colab": {
          "base_uri": "https://localhost:8080/"
        },
        "id": "qtJtouRXDuAD",
        "outputId": "c7bedf51-8888-4c3b-dc51-b7cd8e77dd52"
      },
      "execution_count": null,
      "outputs": [
        {
          "output_type": "stream",
          "name": "stdout",
          "text": [
            "['⬜️', '️⬜️', '️⬜️']\n",
            "['⬜️', '⬜️', '️⬜️']\n",
            "['⬜️️', '⬜️️', '⬜️️']\n",
            "Where do you want to put the treasure? 23\n",
            "['⬜️', '️⬜️', '️⬜️']\n",
            "['⬜️', '⬜️', '️⬜️']\n",
            "['⬜️️', 'X', '⬜️️']\n"
          ]
        }
      ]
    },
    {
      "cell_type": "code",
      "source": [
        "import random\n",
        "rock = '''\n",
        "    _______\n",
        "---'   ____)\n",
        "      (_____)\n",
        "      (_____)\n",
        "      (____)\n",
        "---.__(___)\n",
        "'''\n",
        "\n",
        "paper = '''\n",
        "    _______\n",
        "---'   ____)____\n",
        "          ______)\n",
        "          _______)\n",
        "         _______)\n",
        "---.__________)\n",
        "'''\n",
        "\n",
        "scissors = '''\n",
        "    _______\n",
        "---'   ____)____\n",
        "          ______)\n",
        "       __________)\n",
        "      (____)\n",
        "---.__(___)\n",
        "'''\n",
        "\n",
        "#Write your code below this line 👇\n",
        "game_images = [rock,paper,scissors]\n",
        "\n",
        "user_choice = int(input(\"What do you choose? Type 0 for Rock, 1 for Paper or 2 for Scissors.\"))\n",
        "print(game_images[user_choice])\n",
        "\n",
        "computer_choice = random.randint(0,2)\n",
        "\n",
        "print(\"Computer chose\")\n",
        "print(game_images[computer_choice])\n",
        "\n",
        "if user_choice == 0 and computer_choice == 2 :\n",
        "  print(\"You win!\")\n",
        "elif computer_choice == 0 and user_choice ==2:\n",
        "  print(\"You lose!\")\n",
        "elif computer_choice > user_choice :\n",
        "  print(\"You lose!\")\n",
        "elif computer_choice < user_choice:\n",
        "  print(\"You win!\")\n",
        "elif computer_choice == user_choice :\n",
        "  print(\"It's a draw\")\n",
        "elif user_choice >=3 :\n",
        "  print(\"You typed an invalid number , you lose!\")\n"
      ],
      "metadata": {
        "id": "BrsTAbv7HPpg"
      },
      "execution_count": null,
      "outputs": []
    },
    {
      "cell_type": "markdown",
      "source": [
        "# **DAY 5 : FOR LOOPS , RANGE AND CODE BLOCKS**: ⚛"
      ],
      "metadata": {
        "id": "3DkGDQoBtOT6"
      }
    },
    {
      "cell_type": "code",
      "source": [
        "# For Loop\n",
        "\n",
        "fruits = ['Apple','Peach','Pear']\n",
        "\n",
        "for i in fruits:\n",
        "  print(i)"
      ],
      "metadata": {
        "colab": {
          "base_uri": "https://localhost:8080/"
        },
        "id": "1Ez6jZo0tbw-",
        "outputId": "f3cb1ddf-9e8d-458a-9cfd-3279deff6311"
      },
      "execution_count": null,
      "outputs": [
        {
          "output_type": "stream",
          "name": "stdout",
          "text": [
            "Apple\n",
            "Peach\n",
            "Pear\n"
          ]
        }
      ]
    },
    {
      "cell_type": "code",
      "source": [
        "# Average Height\n",
        "student_heights = input(\"Input a list of student heights \").split()\n",
        "for n in range(0, len(student_heights)):\n",
        "  student_heights[n] = int(student_heights[n])\n",
        "# 🚨 Don't change the code above 👆\n",
        "\n",
        "\n",
        "\n",
        "#Write your code below this row 👇\n",
        "#average = sum(student_heights) / len(student_heights)\n",
        "#print(round(average))\n",
        "\n",
        "total_height = 0\n",
        "for i in student_heights:\n",
        "    total_height += i\n",
        "\n",
        "length = 0\n",
        "for i in student_heights:\n",
        "    length += 1\n",
        "\n",
        "\n",
        "\n",
        "average = round(total_height / length)\n",
        "print(average)\n"
      ],
      "metadata": {
        "colab": {
          "base_uri": "https://localhost:8080/"
        },
        "id": "E0gSXpexyUPV",
        "outputId": "cb8fbc7c-adb7-406f-d47e-81ab8fffa8b8"
      },
      "execution_count": null,
      "outputs": [
        {
          "output_type": "stream",
          "name": "stdout",
          "text": [
            "Input a list of student heights 56 12 56 12 36\n",
            "34\n"
          ]
        }
      ]
    },
    {
      "cell_type": "code",
      "source": [
        "# maximum score\n",
        "student_scores = input(\"Input a list of student scores \").split()\n",
        "for n in range(0, len(student_scores)):\n",
        "  student_scores[n] = int(student_scores[n])\n",
        "print(student_scores)\n",
        "# 🚨 Don't change the code above 👆\n",
        "\n",
        "#Write your code below this row 👇\n",
        "\n",
        "highest_score = 0\n",
        "for score in student_scores:\n",
        "    if highest_score < score:\n",
        "        highest_score = score\n",
        "\n",
        "print(\"The highest score in the class is: \",highest_score)"
      ],
      "metadata": {
        "colab": {
          "base_uri": "https://localhost:8080/"
        },
        "id": "CgTIXU-2yig9",
        "outputId": "c581c342-a972-4b55-8dcc-b58e527b0516"
      },
      "execution_count": null,
      "outputs": [
        {
          "output_type": "stream",
          "name": "stdout",
          "text": [
            "Input a list of student scores 56 89 7 95 63\n",
            "[56, 89, 7, 95, 63]\n",
            "The highest score in the class is:  95\n"
          ]
        }
      ]
    },
    {
      "cell_type": "markdown",
      "source": [
        "**For loops and RANGE function**\n",
        "\n",
        "for i in range(start, end(+1) , step)):\n",
        "  statements"
      ],
      "metadata": {
        "id": "sh9IHN6Yy1q4"
      }
    },
    {
      "cell_type": "code",
      "source": [
        "for i in range(1,10):\n",
        "  print(i)\n",
        "\n",
        "# Range does not print last digit\n",
        "\n",
        "for i in range(1,11):\n",
        "  print(i)"
      ],
      "metadata": {
        "id": "kT_-L2ivy8qk"
      },
      "execution_count": null,
      "outputs": []
    },
    {
      "cell_type": "code",
      "source": [
        "# step\n",
        "for i in range(1,10,3):\n",
        "  print(i)"
      ],
      "metadata": {
        "colab": {
          "base_uri": "https://localhost:8080/"
        },
        "id": "3eOt-HRtzbwm",
        "outputId": "f811236e-5fa3-4ced-b66e-da46ad22d78a"
      },
      "execution_count": null,
      "outputs": [
        {
          "output_type": "stream",
          "name": "stdout",
          "text": [
            "1\n",
            "4\n",
            "7\n"
          ]
        }
      ]
    },
    {
      "cell_type": "code",
      "source": [
        "# 1- 100 sum\n",
        "total = 0\n",
        "for i in range(1,101):\n",
        "  total += i\n",
        "print(total)\n",
        "\n"
      ],
      "metadata": {
        "colab": {
          "base_uri": "https://localhost:8080/"
        },
        "id": "O2lDHeYXzkzy",
        "outputId": "83d50e70-2569-4b95-c899-143fd9bf9e31"
      },
      "execution_count": null,
      "outputs": [
        {
          "output_type": "stream",
          "name": "stdout",
          "text": [
            "5050\n"
          ]
        }
      ]
    },
    {
      "cell_type": "code",
      "source": [
        "# sum of even numbers from 1-100\n",
        "even_sum = 0\n",
        "for i in range(2,101,2):\n",
        "  even_sum += i\n",
        "print(even_sum)\n"
      ],
      "metadata": {
        "id": "QEmiAtNTz2Js"
      },
      "execution_count": null,
      "outputs": []
    },
    {
      "cell_type": "code",
      "source": [
        "# 1-100\n",
        "# Divisible by 3 --> Fizz\n",
        "# Divisible by 5 --> Buzz\n",
        "# Divisible by both --> FizzBuzz\n",
        "\n",
        "for i in range(1 , 101):\n",
        "    if i % 3 == 0 and i % 5 == 0:\n",
        "        print(\"FizzBuzz\")\n",
        "    elif i % 3 == 0:\n",
        "        print(\"Fizz\")\n",
        "    elif i % 5 == 0:\n",
        "        print(\"Buzz\")\n",
        "    else:\n",
        "        print(i)\n"
      ],
      "metadata": {
        "id": "ciKLktSJ0f-C"
      },
      "execution_count": null,
      "outputs": []
    },
    {
      "cell_type": "code",
      "source": [],
      "metadata": {
        "id": "19-_rci11bjr"
      },
      "execution_count": null,
      "outputs": []
    },
    {
      "cell_type": "markdown",
      "source": [
        "# **DAY 7 : BEGINNER HANGMAN**"
      ],
      "metadata": {
        "id": "6I7bTmnGUF8G"
      }
    },
    {
      "cell_type": "markdown",
      "source": [
        "# **FUNCTION PARAMETERS AND CAESAR CIPHER**"
      ],
      "metadata": {
        "id": "ivQGMaVf0XDW"
      }
    },
    {
      "cell_type": "markdown",
      "source": [
        "***Functions with Inputs***\n",
        "\n",
        "---\n",
        "\n"
      ],
      "metadata": {
        "id": "YJcSbfTQ1Ogb"
      }
    },
    {
      "cell_type": "code",
      "source": [
        "# function without args\n",
        "def greet():\n",
        "  print(\"Hello !!\")\n",
        "  print(\"How do you do?\")\n",
        "  print(\"I hope everythng is fine\")\n",
        "\n",
        "\n",
        "greet()\n"
      ],
      "metadata": {
        "colab": {
          "base_uri": "https://localhost:8080/"
        },
        "id": "5eQI7d1E1Vib",
        "outputId": "75177f5f-d5a9-4385-9b88-a86f28582a03"
      },
      "execution_count": 1,
      "outputs": [
        {
          "output_type": "stream",
          "name": "stdout",
          "text": [
            "Hello !!\n",
            "How do you do?\n",
            "I hope everythng is fine\n"
          ]
        }
      ]
    },
    {
      "cell_type": "code",
      "source": [
        "# function with input\n",
        "\n",
        "def greet(name):\n",
        "  print(\"Hello !! \",name)\n",
        "  print(\"How do you do? \",name)\n",
        "  print(\"I hope everythng is fine\")\n",
        "\n",
        "name = input(\"Enter name ==> \")\n",
        "greet(name)\n"
      ],
      "metadata": {
        "colab": {
          "base_uri": "https://localhost:8080/"
        },
        "id": "zxwyzhWN4WQw",
        "outputId": "344ba2ca-f5a0-40cf-e63b-39abcfdadfa3"
      },
      "execution_count": 2,
      "outputs": [
        {
          "output_type": "stream",
          "name": "stdout",
          "text": [
            "Enter name ==> prachi\n",
            "Hello !!  prachi\n",
            "How do you do?  prachi\n",
            "I hope everythng is fine\n"
          ]
        }
      ]
    },
    {
      "cell_type": "markdown",
      "source": [
        "***Positional vs Keyword Arguments***\n",
        "\n",
        "---\n",
        "\n",
        "positional arguments :  it looks one behind one , positionally , we haven't specified which is associated with which one"
      ],
      "metadata": {
        "id": "80UvX8e15FrJ"
      }
    },
    {
      "cell_type": "code",
      "source": [
        "# fucntions with more than 1 input\n",
        "def greet_with(name , loc):\n",
        "  print(\"Heelo \",name)\n",
        "  print(\"Just got to know you came back from \",loc)\n",
        "\n",
        "name = input(\"Enter name : \")\n",
        "loc = input(\"Enter location : \")\n",
        "greet_with(name,loc)"
      ],
      "metadata": {
        "colab": {
          "base_uri": "https://localhost:8080/"
        },
        "id": "e_DbmoR05La_",
        "outputId": "81f4f4da-e3c3-4726-e66d-b544be28c43f"
      },
      "execution_count": 3,
      "outputs": [
        {
          "output_type": "stream",
          "name": "stdout",
          "text": [
            "Enter name : prachi\n",
            "Enter location : america\n",
            "Heelo  prachi\n",
            "Just got to know you came back from  america\n"
          ]
        }
      ]
    },
    {
      "cell_type": "code",
      "source": [
        "# Keyword arguments\n",
        "def greet_with(name , loc):\n",
        "  print(\"Heelo \",name)\n",
        "  print(\"Just got to know you came back from \",loc)\n",
        "\n",
        "# name = input(\"Enter name : \")\n",
        "# loc = input(\"Enter location : \")\n",
        "greet_with(name = 'Prachi',loc = \"Nagpur\")\n",
        "greet_with(loc = \"Nagpur\",name = 'Prachi')"
      ],
      "metadata": {
        "colab": {
          "base_uri": "https://localhost:8080/"
        },
        "id": "gwSVAqNI52DI",
        "outputId": "96e9348d-f8fc-41d2-f4b5-5bd6a134d7ce"
      },
      "execution_count": 5,
      "outputs": [
        {
          "output_type": "stream",
          "name": "stdout",
          "text": [
            "Heelo  Prachi\n",
            "Just got to know you came back from  Nagpur\n",
            "Heelo  Prachi\n",
            "Just got to know you came back from  Nagpur\n"
          ]
        }
      ]
    },
    {
      "cell_type": "code",
      "source": [
        "#Simple Function\n",
        "def greet():\n",
        "  print(\"Hello Angela\")\n",
        "  print(\"How do you do Jack Bauer?\")\n",
        "  print(\"Isn't the weather nice today?\")\n",
        "greet()\n",
        "\n",
        "#Function that allows for input\n",
        "#'name' is the parameter.\n",
        "#'Jack Bauer' is the argument.\n",
        "def greet_with_name(name):\n",
        "  print(f\"Hello {name}\")\n",
        "  print(f\"How do you do {name}?\")\n",
        "greet_with_name(\"Jack Bauer\")\n",
        "\n",
        "#Functions with more than 1 input\n",
        "def greet_with(name, location):\n",
        "  print(f\"Hello {name}\")\n",
        "  print(f\"What is it like in {location}?\")\n",
        "\n",
        "#Calling greet_with() with Positional Arguments\n",
        "greet_with(\"Jack Bauer\", \"Nowhere\")\n",
        "#vs.\n",
        "greet_with(\"Nowhere\", \"Jack Bauer\")\n",
        "\n",
        "\n",
        "#Calling greet_with() with Keyword Arguments\n",
        "greet_with(location=\"London\", name=\"Angela\")"
      ],
      "metadata": {
        "id": "yFF8QD8F7-pO"
      },
      "execution_count": null,
      "outputs": []
    },
    {
      "cell_type": "code",
      "source": [
        "import math\n",
        "\n",
        "#Write your code below this line 👇\n",
        "def paint_calc(height,width,cover):\n",
        "    number_of_cans = math.ceil((height*width)/cover)\n",
        "    print(f\"You'll need {number_of_cans} cans of paint\")\n",
        "\n",
        "#Write your code above this line 👆\n",
        "# Define a function called paint_calc() so that the code below works.\n",
        "\n",
        "# 🚨 Don't change the code below 👇\n",
        "test_h = int(input(\"Height of wall: \"))\n",
        "test_w = int(input(\"Width of wall: \"))\n",
        "coverage = 5\n",
        "paint_calc(height=test_h, width=test_w, cover=coverage)\n",
        "\n"
      ],
      "metadata": {
        "colab": {
          "base_uri": "https://localhost:8080/"
        },
        "id": "TiXs11QL9pJy",
        "outputId": "b83d6483-06fd-4a3e-9a0e-5130ccbc80ec"
      },
      "execution_count": 6,
      "outputs": [
        {
          "output_type": "stream",
          "name": "stdout",
          "text": [
            "Height of wall: 3\n",
            "Width of wall: 9\n",
            "You'll need 6 cans of paint\n"
          ]
        }
      ]
    },
    {
      "cell_type": "code",
      "source": [
        "#Prime Number\n",
        "#Write your code below this line 👇\n",
        "\n",
        "def prime_checker(number):\n",
        "  temp = 0\n",
        "  if number==0 or number==1:\n",
        "    print(\"It's not a prime number.\")\n",
        "  elif number==2:\n",
        "    print(\"It's a prime number.\")\n",
        "  else:\n",
        "    for i in range(2,number//2):\n",
        "      if number%i==0:\n",
        "        temp = 1\n",
        "\n",
        "  if temp ==1 :\n",
        "    print(\"It's not a prime number.\")\n",
        "  else:\n",
        "    print(\"It's a prime number.\")\n",
        "\n",
        "\n",
        "\n",
        "\n",
        "\n",
        "\n",
        "#Write your code above this line 👆\n",
        "\n",
        "#Do NOT change any of the code below👇\n",
        "n = int(input(\"Check this number: \"))\n",
        "prime_checker(number=n)"
      ],
      "metadata": {
        "colab": {
          "base_uri": "https://localhost:8080/"
        },
        "id": "JvfLHzoSDNGw",
        "outputId": "5f644906-3ee2-4e42-b47a-5d19b81b14a9"
      },
      "execution_count": 11,
      "outputs": [
        {
          "output_type": "stream",
          "name": "stdout",
          "text": [
            "Check this number: 5\n",
            "It's a prime number.\n"
          ]
        }
      ]
    },
    {
      "cell_type": "code",
      "source": [
        "alphabet = ['a', 'b', 'c', 'd', 'e', 'f', 'g', 'h', 'i', 'j', 'k', 'l', 'm', 'n', 'o', 'p', 'q', 'r', 's', 't', 'u', 'v', 'w', 'x', 'y', 'z']\n",
        "\n",
        "direction = input(\"Type 'encode' to encrypt, type 'decode' to decrypt:\\n\")\n",
        "text = input(\"Type your message:\\n\").lower()\n",
        "shift = int(input(\"Type the shift number:\\n\"))\n",
        "\n",
        "\n",
        "#TODO-1: Create a function called 'encrypt' that takes the 'text' and 'shift' as inputs.\n",
        "def encrypt(text,shift):\n",
        "  cipher_text = \"\"\n",
        "    #TODO-2: Inside the 'encrypt' function, shift each letter of the 'text' forwards in the alphabet by the shift amount and print the encrypted text.\n",
        "    #e.g.\n",
        "    #plain_text = \"hello\"\n",
        "    #shift = 5\n",
        "    #cipher_text = \"mjqqt\"\n",
        "    #print output: \"The encoded text is mjqqt\"\n",
        "  for letter in text:\n",
        "    position = alphabet.index(letter)\n",
        "    position += shift\n",
        "    new_letter = alphabet[position]\n",
        "    cipher_text+=new_letter\n",
        "  print(f\"The encoded text is {cipher_text}\")\n",
        "\n",
        "    ##HINT: How do you get the index of an item in a list:\n",
        "    #https://stackoverflow.com/questions/176918/finding-the-index-of-an-item-in-a-list\n",
        "\n",
        "    ##🐛Bug alert: What happens if you try to encode the word 'civilization'?🐛\n",
        "\n",
        "#TODO-3: Call the encrypt function and pass in the user inputs. You should be able to test the code and encrypt a message.\n",
        "encrypt(text,shift)\n",
        "\n",
        "\n",
        "\n",
        "# What if the letter is \"z\" , then this will give an err\n",
        "# so for this\n",
        "# alphabet = ['a', 'b', 'c', 'd', 'e', 'f', 'g', 'h', 'i', 'j', 'k', 'l', 'm', 'n', 'o', 'p', 'q', 'r', 's', 't', 'u', 'v', 'w', 'x', 'y', 'z','a', 'b', 'c', 'd', 'e', 'f', 'g', 'h', 'i', 'j', 'k', 'l', 'm', 'n', 'o', 'p', 'q', 'r', 's', 't', 'u', 'v', 'w', 'x', 'y', 'z']\n"
      ],
      "metadata": {
        "colab": {
          "base_uri": "https://localhost:8080/"
        },
        "id": "Gf_YV1X1FPUD",
        "outputId": "232a6f20-e609-4553-d991-200613f839f4"
      },
      "execution_count": 15,
      "outputs": [
        {
          "output_type": "stream",
          "name": "stdout",
          "text": [
            "Type 'encode' to encrypt, type 'decode' to decrypt:\n",
            "encode\n",
            "Type your message:\n",
            "abcd\n",
            "Type the shift number:\n",
            "3\n",
            "The encoded text is defg\n"
          ]
        }
      ]
    },
    {
      "cell_type": "code",
      "source": [
        "alphabet = ['a', 'b', 'c', 'd', 'e', 'f', 'g', 'h', 'i', 'j', 'k', 'l', 'm', 'n', 'o', 'p', 'q', 'r', 's', 't', 'u', 'v', 'w', 'x', 'y', 'z', 'a', 'b', 'c', 'd', 'e', 'f', 'g', 'h', 'i', 'j', 'k', 'l', 'm', 'n', 'o', 'p', 'q', 'r', 's', 't', 'u', 'v', 'w', 'x', 'y', 'z']\n",
        "\n",
        "direction = input(\"Type 'encode' to encrypt, type 'decode' to decrypt:\\n\").lower()\n",
        "text = input(\"Type your message:\\n\").lower()\n",
        "shift = int(input(\"Type the shift number:\\n\"))\n",
        "\n",
        "def encrypt(plain_text, shift_amount):\n",
        "  cipher_text = \"\"\n",
        "  for letter in plain_text:\n",
        "    position = alphabet.index(letter)\n",
        "    new_position = position + shift_amount\n",
        "    cipher_text += alphabet[new_position]\n",
        "  print(f\"The encoded text is {cipher_text}\")\n",
        "\n",
        "#TODO-1: Create a different function called 'decrypt' that takes the 'text' and 'shift' as inputs.\n",
        "def decrypt(cipher_text,shift_amount):\n",
        "  plain_text = \"\"\n",
        "  #TODO-2: Inside the 'decrypt' function, shift each letter of the 'text' *backwards* in the alphabet by the shift amount and print the decrypted text.\n",
        "  #e.g.\n",
        "  #cipher_text = \"mjqqt\"\n",
        "  #shift = 5\n",
        "  #plain_text = \"hello\"\n",
        "  #print output: \"The decoded text is hello\"\n",
        "  for letter in cipher_text:\n",
        "    position = alphabet.index(letter)\n",
        "    new_position = position - shift_amount\n",
        "    plain_text += alphabet[new_position]\n",
        "  print(f\"The decoded text is {plain_text}\")\n",
        "\n",
        "\n",
        "#TODO-3: Check if the user wanted to encrypt or decrypt the message by checking the 'direction' variable. Then call the correct function based on that 'drection' variable. You should be able to test the code to encrypt *AND* decrypt a message.\n",
        "if direction == 'encode':\n",
        "  encrypt(plain_text=text, shift_amount=shift)\n",
        "elif direction =='decode':\n",
        "  decrypt(cipher_text=text, shift_amount=shift)\n",
        "else:\n",
        "  print(\"Wrong choice!!\")"
      ],
      "metadata": {
        "id": "DQ88eLgoTwwz"
      },
      "execution_count": null,
      "outputs": []
    },
    {
      "cell_type": "code",
      "source": [
        "alphabet = ['a', 'b', 'c', 'd', 'e', 'f', 'g', 'h', 'i', 'j', 'k', 'l', 'm', 'n', 'o', 'p', 'q', 'r', 's', 't', 'u', 'v', 'w', 'x', 'y', 'z', 'a', 'b', 'c', 'd', 'e', 'f', 'g', 'h', 'i', 'j', 'k', 'l', 'm', 'n', 'o', 'p', 'q', 'r', 's', 't', 'u', 'v', 'w', 'x', 'y', 'z']\n",
        "\n",
        "direction = input(\"Type 'encode' to encrypt, type 'decode' to decrypt:\\n\")\n",
        "text = input(\"Type your message:\\n\").lower()\n",
        "shift = int(input(\"Type the shift number:\\n\"))\n",
        "\n",
        "#TODO-1: Combine the encrypt() and decrypt() functions into a single function called caesar().\n",
        "def caesar(text,shift,direction):\n",
        "  end_text = \"\"\n",
        "  for letter in text:\n",
        "    position = alphabet.index(letter)\n",
        "    if direction == 'decode':\n",
        "      shift *= -1\n",
        "      # 5* -1 = -5\n",
        "    new_position = position + shift\n",
        "    # 12 + -5 = 7\n",
        "    end_text += alphabet[new_position]\n",
        "  print(f\"The {direction}d text is {end_text}\")\n",
        "\n",
        "#TODO-2: Call the caesar() function, passing over the 'text', 'shift' and 'direction' values.\n",
        "caesar(text,shift,direction)"
      ],
      "metadata": {
        "id": "qcnFQ-nUTxc5"
      },
      "execution_count": null,
      "outputs": []
    }
  ]
}