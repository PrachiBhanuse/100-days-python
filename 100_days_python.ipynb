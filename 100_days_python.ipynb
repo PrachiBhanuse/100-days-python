{
  "nbformat": 4,
  "nbformat_minor": 0,
  "metadata": {
    "colab": {
      "provenance": [],
      "collapsed_sections": [
        "ViKYjWSa5LYU",
        "3DkGDQoBtOT6"
      ]
    },
    "kernelspec": {
      "name": "python3",
      "display_name": "Python 3"
    },
    "language_info": {
      "name": "python"
    }
  },
  "cells": [
    {
      "cell_type": "markdown",
      "source": [
        "# **DAY 4 -**  **RANDOMISATION**: ⚛"
      ],
      "metadata": {
        "id": "ViKYjWSa5LYU"
      }
    },
    {
      "cell_type": "code",
      "source": [
        "import random\n",
        "\n",
        "# includes 1 - 10\n",
        "randomInt = random.randint(1,10)\n",
        "print(randomInt)\n",
        "\n",
        "# Float\n",
        "# random()  --> 0.0 - 0.9999 (0.0,1.0)\n",
        "randomFloat = random.random()\n",
        "print(randomFloat)\n",
        "\n",
        "# love score\n",
        "love_score = random.randint(1,100)\n",
        "print(f\"Your love score is {love_score}\")\n"
      ],
      "metadata": {
        "colab": {
          "base_uri": "https://localhost:8080/"
        },
        "id": "n5193XYh5rPg",
        "outputId": "62611ae4-7be0-4404-b94e-01f0b5accf93"
      },
      "execution_count": null,
      "outputs": [
        {
          "output_type": "stream",
          "name": "stdout",
          "text": [
            "1\n",
            "0.6108885226615567\n",
            "Your love score is 49\n"
          ]
        }
      ]
    },
    {
      "cell_type": "code",
      "source": [
        "\"\"\"You are going to write a virtual coin toss program. It will randomly tell the user \"Heads\" or \"Tails\".\n",
        "Important, the first letter should be capitalised and spelt exactly like in the example e.g. Heads, not heads.\n",
        "There are many ways of doing this. But to practice what we learnt in the last lesson, you should generate a random number, either 0 or 1. Then use that number to print out Heads or Tails.\n",
        "e.g. 1 means Heads 0 means Tails\"\"\"\n",
        "\n",
        "import random\n",
        "\n",
        "res = random.randint(0,1)\n",
        "\n",
        "if res == 1:\n",
        "    print(\"Heads\")\n",
        "else:\n",
        "    print(\"Tails\")\n"
      ],
      "metadata": {
        "colab": {
          "base_uri": "https://localhost:8080/"
        },
        "id": "skZQ2GS-7fDX",
        "outputId": "54ec7e63-aae4-44ce-bfb6-5c468e35181b"
      },
      "execution_count": null,
      "outputs": [
        {
          "output_type": "stream",
          "name": "stdout",
          "text": [
            "Tails\n"
          ]
        }
      ]
    },
    {
      "cell_type": "markdown",
      "source": [
        "**Lists**\n"
      ],
      "metadata": {
        "id": "6Z13V0yL70We"
      }
    },
    {
      "cell_type": "code",
      "source": [
        "states_of_america = [\"Alaska\", \"Alabama\", \"Arkansas\", \"American Samoa\", \"Arizona\", \"California\"]\n",
        "print(states_of_america)\n",
        "\n",
        "states_of_america[1] = \"Nagpur\"\n",
        "print(states_of_america)\n",
        "\n",
        "states_of_america.extend([\"Kolhapur\" , \"Pune\"])\n",
        "print(states_of_america)\n",
        "\n",
        "states_of_america.insert(0,\"Ratnagiri\")\n",
        "print(states_of_america)\n",
        "\n",
        "states_of_america.remove(\"Nagpur\")\n",
        "print(states_of_america)\n",
        "\n",
        "states_of_america.pop()\n",
        "print(states_of_america)\n"
      ],
      "metadata": {
        "colab": {
          "base_uri": "https://localhost:8080/"
        },
        "id": "HPR9GExG8CqV",
        "outputId": "241dfd12-ab15-4518-a602-b8c22ea5052e"
      },
      "execution_count": null,
      "outputs": [
        {
          "output_type": "stream",
          "name": "stdout",
          "text": [
            "['Alaska', 'Alabama', 'Arkansas', 'American Samoa', 'Arizona', 'California']\n",
            "['Alaska', 'Nagpur', 'Arkansas', 'American Samoa', 'Arizona', 'California']\n",
            "['Alaska', 'Nagpur', 'Arkansas', 'American Samoa', 'Arizona', 'California', 'Kolhapur', 'Pune']\n",
            "['Ratnagiri', 'Alaska', 'Nagpur', 'Arkansas', 'American Samoa', 'Arizona', 'California', 'Kolhapur', 'Pune']\n",
            "['Ratnagiri', 'Alaska', 'Arkansas', 'American Samoa', 'Arizona', 'California', 'Kolhapur', 'Pune']\n",
            "['Ratnagiri', 'Alaska', 'Arkansas', 'American Samoa', 'Arizona', 'California', 'Kolhapur']\n"
          ]
        }
      ]
    },
    {
      "cell_type": "code",
      "source": [
        "\n",
        "\"\"\"\n",
        "You are going to write a program that will select a random name from a list of names. The person selected will have to pay for everybody's food bill.\n",
        "Important: You are not allowed to use the choice() function.\n",
        "Line 8 splits the string names_string into individual names and puts them inside a List called names. For this to work, you must enter all the names as names followed by comma then space. e.g. name, name, name\n",
        "\"\"\"\n",
        "\n",
        "# Import the random module here\n",
        "import random\n",
        "\n",
        "# Split string method\n",
        "names_string = input(\"Give me everybody's names, separated by a comma. \")\n",
        "names = names_string.split(\",\")\n",
        "# 🚨 Don't change the code above 👆\n",
        "\n",
        "#Write your code below this line 👇\n",
        "\n",
        "names_list = names_string.split(',')\n",
        "\n",
        "random_name = random.randint(0,len(names_list)-1)\n",
        "\n",
        "print(names_list[random_name]+\" is going to buy the meal today!\")\n"
      ],
      "metadata": {
        "colab": {
          "base_uri": "https://localhost:8080/"
        },
        "id": "21ims16_AjOK",
        "outputId": "c98538f7-ec16-4d51-dc05-d936987a8b22"
      },
      "execution_count": null,
      "outputs": [
        {
          "output_type": "stream",
          "name": "stdout",
          "text": [
            "Give me everybody's names, separated by a comma. Prachi,Bhanuse\n",
            "Prachi is going to buy the meal today!\n"
          ]
        }
      ]
    },
    {
      "cell_type": "code",
      "source": [
        "# Nested Lists\n",
        "\n",
        "l1 = ['apple','banana','cherry','grapes','mango','guava','tomato','orange','pineapple','beetroot','pomogrante']\n",
        "l2 = ['spinach','bringel','potato','cauliflower','cabbage','lady finger','drumsticks','french beans','capsicum']\n",
        "\n",
        "l3 = [l1,l2]\n",
        "print(l3[1][1])"
      ],
      "metadata": {
        "colab": {
          "base_uri": "https://localhost:8080/"
        },
        "id": "MPriqcqWBA8O",
        "outputId": "e957b1b7-4ca5-40c9-8867-7a481b57a65b"
      },
      "execution_count": null,
      "outputs": [
        {
          "output_type": "stream",
          "name": "stdout",
          "text": [
            "bringel\n"
          ]
        }
      ]
    },
    {
      "cell_type": "code",
      "source": [
        "# 🚨 Don't change the code below 👇\n",
        "row1 = [\"⬜️\",\"️⬜️\",\"️⬜️\"]\n",
        "row2 = [\"⬜️\",\"⬜️\",\"️⬜️\"]\n",
        "row3 = [\"⬜️️\",\"⬜️️\",\"⬜️️\"]\n",
        "map = [row1, row2, row3]\n",
        "print(f\"{row1}\\n{row2}\\n{row3}\")\n",
        "position = input(\"Where do you want to put the treasure? \")\n",
        "# 🚨 Don't change the code above 👆\n",
        "\n",
        "#Write your code below this row 👇\n",
        "\n",
        "column = int(position[0])-1\n",
        "row = int(position[1])-1\n",
        "\n",
        "map[row][column] = 'X'\n",
        "\n",
        "\n",
        "\n",
        "\n",
        "\n",
        "\n",
        "#Write your code above this row 👆\n",
        "\n",
        "# 🚨 Don't change the code below 👇\n",
        "print(f\"{row1}\\n{row2}\\n{row3}\")\n",
        "\n"
      ],
      "metadata": {
        "colab": {
          "base_uri": "https://localhost:8080/"
        },
        "id": "qtJtouRXDuAD",
        "outputId": "c7bedf51-8888-4c3b-dc51-b7cd8e77dd52"
      },
      "execution_count": null,
      "outputs": [
        {
          "output_type": "stream",
          "name": "stdout",
          "text": [
            "['⬜️', '️⬜️', '️⬜️']\n",
            "['⬜️', '⬜️', '️⬜️']\n",
            "['⬜️️', '⬜️️', '⬜️️']\n",
            "Where do you want to put the treasure? 23\n",
            "['⬜️', '️⬜️', '️⬜️']\n",
            "['⬜️', '⬜️', '️⬜️']\n",
            "['⬜️️', 'X', '⬜️️']\n"
          ]
        }
      ]
    },
    {
      "cell_type": "code",
      "source": [
        "import random\n",
        "rock = '''\n",
        "    _______\n",
        "---'   ____)\n",
        "      (_____)\n",
        "      (_____)\n",
        "      (____)\n",
        "---.__(___)\n",
        "'''\n",
        "\n",
        "paper = '''\n",
        "    _______\n",
        "---'   ____)____\n",
        "          ______)\n",
        "          _______)\n",
        "         _______)\n",
        "---.__________)\n",
        "'''\n",
        "\n",
        "scissors = '''\n",
        "    _______\n",
        "---'   ____)____\n",
        "          ______)\n",
        "       __________)\n",
        "      (____)\n",
        "---.__(___)\n",
        "'''\n",
        "\n",
        "#Write your code below this line 👇\n",
        "game_images = [rock,paper,scissors]\n",
        "\n",
        "user_choice = int(input(\"What do you choose? Type 0 for Rock, 1 for Paper or 2 for Scissors.\"))\n",
        "print(game_images[user_choice])\n",
        "\n",
        "computer_choice = random.randint(0,2)\n",
        "\n",
        "print(\"Computer chose\")\n",
        "print(game_images[computer_choice])\n",
        "\n",
        "if user_choice == 0 and computer_choice == 2 :\n",
        "  print(\"You win!\")\n",
        "elif computer_choice == 0 and user_choice ==2:\n",
        "  print(\"You lose!\")\n",
        "elif computer_choice > user_choice :\n",
        "  print(\"You lose!\")\n",
        "elif computer_choice < user_choice:\n",
        "  print(\"You win!\")\n",
        "elif computer_choice == user_choice :\n",
        "  print(\"It's a draw\")\n",
        "elif user_choice >=3 :\n",
        "  print(\"You typed an invalid number , you lose!\")\n"
      ],
      "metadata": {
        "id": "BrsTAbv7HPpg"
      },
      "execution_count": null,
      "outputs": []
    },
    {
      "cell_type": "markdown",
      "source": [
        "# **DAY 5 : FOR LOOPS , RANGE AND CODE BLOCKS**: ⚛"
      ],
      "metadata": {
        "id": "3DkGDQoBtOT6"
      }
    },
    {
      "cell_type": "code",
      "source": [
        "# For Loop\n",
        "\n",
        "fruits = ['Apple','Peach','Pear']\n",
        "\n",
        "for i in fruits:\n",
        "  print(i)"
      ],
      "metadata": {
        "colab": {
          "base_uri": "https://localhost:8080/"
        },
        "id": "1Ez6jZo0tbw-",
        "outputId": "f3cb1ddf-9e8d-458a-9cfd-3279deff6311"
      },
      "execution_count": null,
      "outputs": [
        {
          "output_type": "stream",
          "name": "stdout",
          "text": [
            "Apple\n",
            "Peach\n",
            "Pear\n"
          ]
        }
      ]
    },
    {
      "cell_type": "code",
      "source": [
        "# Average Height\n",
        "student_heights = input(\"Input a list of student heights \").split()\n",
        "for n in range(0, len(student_heights)):\n",
        "  student_heights[n] = int(student_heights[n])\n",
        "# 🚨 Don't change the code above 👆\n",
        "\n",
        "\n",
        "\n",
        "#Write your code below this row 👇\n",
        "#average = sum(student_heights) / len(student_heights)\n",
        "#print(round(average))\n",
        "\n",
        "total_height = 0\n",
        "for i in student_heights:\n",
        "    total_height += i\n",
        "\n",
        "length = 0\n",
        "for i in student_heights:\n",
        "    length += 1\n",
        "\n",
        "\n",
        "\n",
        "average = round(total_height / length)\n",
        "print(average)\n"
      ],
      "metadata": {
        "colab": {
          "base_uri": "https://localhost:8080/"
        },
        "id": "E0gSXpexyUPV",
        "outputId": "cb8fbc7c-adb7-406f-d47e-81ab8fffa8b8"
      },
      "execution_count": null,
      "outputs": [
        {
          "output_type": "stream",
          "name": "stdout",
          "text": [
            "Input a list of student heights 56 12 56 12 36\n",
            "34\n"
          ]
        }
      ]
    },
    {
      "cell_type": "code",
      "source": [
        "# maximum score\n",
        "student_scores = input(\"Input a list of student scores \").split()\n",
        "for n in range(0, len(student_scores)):\n",
        "  student_scores[n] = int(student_scores[n])\n",
        "print(student_scores)\n",
        "# 🚨 Don't change the code above 👆\n",
        "\n",
        "#Write your code below this row 👇\n",
        "\n",
        "highest_score = 0\n",
        "for score in student_scores:\n",
        "    if highest_score < score:\n",
        "        highest_score = score\n",
        "\n",
        "print(\"The highest score in the class is: \",highest_score)"
      ],
      "metadata": {
        "colab": {
          "base_uri": "https://localhost:8080/"
        },
        "id": "CgTIXU-2yig9",
        "outputId": "c581c342-a972-4b55-8dcc-b58e527b0516"
      },
      "execution_count": null,
      "outputs": [
        {
          "output_type": "stream",
          "name": "stdout",
          "text": [
            "Input a list of student scores 56 89 7 95 63\n",
            "[56, 89, 7, 95, 63]\n",
            "The highest score in the class is:  95\n"
          ]
        }
      ]
    },
    {
      "cell_type": "markdown",
      "source": [
        "**For loops and RANGE function**\n",
        "\n",
        "for i in range(start, end(+1) , step)):\n",
        "  statements"
      ],
      "metadata": {
        "id": "sh9IHN6Yy1q4"
      }
    },
    {
      "cell_type": "code",
      "source": [
        "for i in range(1,10):\n",
        "  print(i)\n",
        "\n",
        "# Range does not print last digit\n",
        "\n",
        "for i in range(1,11):\n",
        "  print(i)"
      ],
      "metadata": {
        "id": "kT_-L2ivy8qk"
      },
      "execution_count": null,
      "outputs": []
    },
    {
      "cell_type": "code",
      "source": [
        "# step\n",
        "for i in range(1,10,3):\n",
        "  print(i)"
      ],
      "metadata": {
        "colab": {
          "base_uri": "https://localhost:8080/"
        },
        "id": "3eOt-HRtzbwm",
        "outputId": "f811236e-5fa3-4ced-b66e-da46ad22d78a"
      },
      "execution_count": null,
      "outputs": [
        {
          "output_type": "stream",
          "name": "stdout",
          "text": [
            "1\n",
            "4\n",
            "7\n"
          ]
        }
      ]
    },
    {
      "cell_type": "code",
      "source": [
        "# 1- 100 sum\n",
        "total = 0\n",
        "for i in range(1,101):\n",
        "  total += i\n",
        "print(total)\n",
        "\n"
      ],
      "metadata": {
        "colab": {
          "base_uri": "https://localhost:8080/"
        },
        "id": "O2lDHeYXzkzy",
        "outputId": "83d50e70-2569-4b95-c899-143fd9bf9e31"
      },
      "execution_count": null,
      "outputs": [
        {
          "output_type": "stream",
          "name": "stdout",
          "text": [
            "5050\n"
          ]
        }
      ]
    },
    {
      "cell_type": "code",
      "source": [
        "# sum of even numbers from 1-100\n",
        "even_sum = 0\n",
        "for i in range(2,101,2):\n",
        "  even_sum += i\n",
        "print(even_sum)\n"
      ],
      "metadata": {
        "id": "QEmiAtNTz2Js"
      },
      "execution_count": null,
      "outputs": []
    },
    {
      "cell_type": "code",
      "source": [
        "# 1-100\n",
        "# Divisible by 3 --> Fizz\n",
        "# Divisible by 5 --> Buzz\n",
        "# Divisible by both --> FizzBuzz\n",
        "\n",
        "for i in range(1 , 101):\n",
        "    if i % 3 == 0 and i % 5 == 0:\n",
        "        print(\"FizzBuzz\")\n",
        "    elif i % 3 == 0:\n",
        "        print(\"Fizz\")\n",
        "    elif i % 5 == 0:\n",
        "        print(\"Buzz\")\n",
        "    else:\n",
        "        print(i)\n"
      ],
      "metadata": {
        "id": "ciKLktSJ0f-C"
      },
      "execution_count": null,
      "outputs": []
    },
    {
      "cell_type": "markdown",
      "source": [
        "# **DAY 7 : HANGMAN PROBLEM**"
      ],
      "metadata": {
        "id": "A2Lv_hHarEUX"
      }
    },
    {
      "cell_type": "code",
      "source": [
        "import random\n",
        "#Step 1\n",
        "\n",
        "word_list = [\"aardvark\", \"baboon\", \"camel\"]\n",
        "\n",
        "#TODO-1 - Randomly choose a word from the word_list and assign it to a variable called chosen_word.\n",
        "\n",
        "#TODO-2 - Ask the user to guess a letter and assign their answer to a variable called guess. Make guess lowercase.\n",
        "\n",
        "#TODO-3 - Check if the letter the user guessed (guess) is one of the letters in the chosen_word.\n",
        "\n",
        "selected_word = random.choice(word_list)\n",
        "\n",
        "guessed_letter = input(\"Guess a letter : \").lower()\n",
        "\n",
        "print(\"Selected word : \",selected_word)\n",
        "for i in selected_word :\n",
        "  if i == guessed_letter:\n",
        "    print(\"Right\")\n",
        "  else:\n",
        "    print(\"Wrong\")\n"
      ],
      "metadata": {
        "colab": {
          "base_uri": "https://localhost:8080/"
        },
        "id": "zCqUb6QlrOac",
        "outputId": "b342a4c9-a5e7-4357-e602-84658ac42175"
      },
      "execution_count": 3,
      "outputs": [
        {
          "output_type": "stream",
          "name": "stdout",
          "text": [
            "Guess a letter : a\n",
            "Selected word :  baboon\n",
            "Wrong\n",
            "Right\n",
            "Wrong\n",
            "Wrong\n",
            "Wrong\n",
            "Wrong\n"
          ]
        }
      ]
    },
    {
      "cell_type": "code",
      "source": [
        "#Step 2\n",
        "\n",
        "import random\n",
        "word_list = [\"aardvark\", \"baboon\", \"camel\"]\n",
        "chosen_word = random.choice(word_list)\n",
        "\n",
        "#Testing code\n",
        "print(f'Pssst, the solution is {chosen_word}.')\n",
        "\n",
        "#TODO-1: - Create an empty List called display.\n",
        "#For each letter in the chosen_word, add a \"_\" to 'display'.\n",
        "#So if the chosen_word was \"apple\", display should be [\"_\", \"_\", \"_\", \"_\", \"_\"] with 5 \"_\" representing each letter to guess.\n",
        "\n",
        "guess = input(\"Guess a letter: \").lower()\n",
        "\n",
        "#TODO-2: - Loop through each position in the chosen_word;\n",
        "#If the letter at that position matches 'guess' then reveal that letter in the display at that position.\n",
        "#e.g. If the user guessed \"p\" and the chosen word was \"apple\", then display should be [\"_\", \"p\", \"p\", \"_\", \"_\"].\n",
        "l = []\n",
        "for letter in chosen_word:\n",
        "    if letter == guess:\n",
        "        l.append(guess)\n",
        "    else:\n",
        "        l.append(\"_\")\n",
        "print(l)\n",
        "\n",
        "#TODO-3: - Print 'display' and you should see the guessed letter in the correct position and every other letter replace with \"_\".\n",
        "#Hint - Don't worry about getting the user to guess the next letter. We'll tackle that in step 3.\n"
      ],
      "metadata": {
        "colab": {
          "base_uri": "https://localhost:8080/"
        },
        "id": "fjZyWimntZgc",
        "outputId": "401aa4ac-2248-4450-acf9-7be1323536d1"
      },
      "execution_count": 5,
      "outputs": [
        {
          "output_type": "stream",
          "name": "stdout",
          "text": [
            "Pssst, the solution is camel.\n",
            "Guess a letter: a\n",
            "['_', 'a', '_', '_', '_']\n"
          ]
        }
      ]
    },
    {
      "cell_type": "code",
      "source": [
        "import random\n",
        "word_list = [\"aardvark\", \"baboon\", \"camel\"]\n",
        "chosen_word = random.choice(word_list)\n",
        "\n",
        "print(f'Pssst, the solution is {chosen_word}.')\n",
        "\n",
        "display= []\n",
        "word_length = len(chosen_word)\n",
        "for _ in range(word_length):\n",
        "  display += \"_\"\n",
        "print(display)\n",
        "\n",
        "guess = input(\"Guess a letter: \").lower()\n",
        "\n",
        "for position in range(word_length):\n",
        "  letter = chosen_word[position]\n",
        "  if letter  == guess:\n",
        "    display[position] = letter\n",
        "\n",
        "print(display)\n",
        "\n"
      ],
      "metadata": {
        "colab": {
          "base_uri": "https://localhost:8080/"
        },
        "id": "qbxKRgotuNCl",
        "outputId": "03c80106-b191-40bd-c0f9-a3808acf2eaa"
      },
      "execution_count": 7,
      "outputs": [
        {
          "output_type": "stream",
          "name": "stdout",
          "text": [
            "Pssst, the solution is camel.\n",
            "['_', '_', '_', '_', '_']\n",
            "Guess a letter: a\n",
            "['_', 'a', '_', '_', '_']\n"
          ]
        }
      ]
    }
  ]
}